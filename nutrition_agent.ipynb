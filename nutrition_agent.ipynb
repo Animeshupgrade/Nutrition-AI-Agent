This should be your notebook where:

You fine-tuned the model (if applicable)

Prepared input/output

Added image processing (if used)

Called Granite models via APIs
